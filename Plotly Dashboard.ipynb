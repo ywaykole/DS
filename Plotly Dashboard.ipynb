{
    "cells": [
        {
            "metadata": {},
            "cell_type": "code",
            "source": "# Import required libraries\nimport pandas as pd\nimport dash\nimport dash_html_components as html\nimport dash_core_components as dcc\nfrom dash.dependencies import Input, Output\nimport plotly.express as px\n\n# Read the airline data into pandas dataframe\nspacex_df = pd.read_csv(\"spacex_launch_dash.csv\")\nmax_payload = spacex_df['Payload Mass (kg)'].max()\nmin_payload = spacex_df['Payload Mass (kg)'].min()\n\n# Create a dash application\napp = dash.Dash(__name__)\n\n# Create an app layout\napp.layout = html.Div(children=[html.H1('SpaceX Launch Records Dashboard',\n                                        style={'textAlign': 'center', 'color': '#503D36',\n                                               'font-size': 40}),\n                                # TASK 1: Add a dropdown list to enable Launch Site selection\n                                # The default select value is for ALL sites\n                                # dcc.Dropdown(id='site-dropdown',...)\n                                dcc.Dropdown(id='site-dropdown',\n                                options=[\n                                    {'label': 'All Sites', 'value': 'ALL'},\n                                    {'label': 'CCAFS LC-40', 'value': 'CCAFS LC-40'},\n                                    {'label': 'CCAFS SLC-40', 'value': 'CCAFS SLC-40'},\n                                    {'label': 'KSC LC-39A', 'value': 'KSC LC-39A'},\n                                    {'label': 'VAFB SLC-4E', 'value': 'VAFB SLC-4E'},\n                                    ],\n                                    value= \"ALL\",\n                                    placeholder= 'Select a lauch Site here',\n                                    searchable=True\n                                    ),\n\n                                html.Br(),\n\n                                # TASK 2: Add a pie chart to show the total successful launches count for all sites\n                                # If a specific launch site was selected, show the Success vs. Failed counts for the site\n                                html.Div(dcc.Graph(id='success-pie-chart')),\n                                html.Br(),\n\n                                html.P(\"Payload range (Kg):\"),\n                                # TASK 3: Add a slider to select payload range\n                                #dcc.RangeSlider(id='payload-slider',...)\n                                dcc.RangeSlider(id='payload-slider', min=0, max=10000, step=1000,\n                                \n                                value=[min_payload, max_payload]),\n                                # TASK 4: Add a scatter chart to show the correlation between payload and launch success\n                                html.Div(dcc.Graph(id='success-payload-scatter-chart')),\n                                ])\n\n# TASK 2:\n# Add a callback function for `site-dropdown` as input, `success-pie-chart` as output\n@app.callback(Output(component_id='success-pie-chart',component_property='figure'),\n              Input(component_id='site-dropdown',component_property='value'))\n\ndef get_pie_chart(site):\n     if site=='ALL':\n              filtered_df=spacex_df\n              fig=px.pie(spacex_df,values='class',     \n              names='Launch Site',     \n              title=f'Success Count for all launch sites')     \n              return fig\n     else:    \n         df_site_filtered=spacex_df[spacex_df['Launch Site']== site]   \n         filtered_df=spacex_df[spacex_df['Launch Site']==site]     \n         df1=filtered_df.groupby(['Launch Site','class']).size().reset_index(name='class count')               \n         fig = px.pie(df1, values='class count', names='class', title=f\"Total Success Launches for site {site}\")     \n         return fig\n\n\n# TASK 4:\n# Add a callback function for `site-dropdown` and `payload-slider` as inputs, `success-payload-scatter-chart` as output\n@app.callback(\n    Output(component_id='success-payload-scatter-chart', component_property='figure'),\n    [Input(component_id='site-dropdown', component_property='value'), \n    Input(component_id=\"payload-slider\", component_property=\"value\")])\n\ndef generate_scatter(site,payload):\n    low, high = payload\n    mask = spacex_df[spacex_df['Payload Mass (kg)'].between(low,high)]\n    if site == 'ALL':\n        fig = px.scatter(mask, \n                        x='Payload Mass (kg)', \n                        y='class', \n                        color=\"Booster Version Category\", \n                        title=f\"Correlation between Payload and Success for all sites\")\n   \n        return fig\n    else:\n        mask_filtered = mask[mask['Launch Site'] == site]\n        fig = px.scatter(mask_filtered, \n                        x='Payload Mass (kg)', \n                        y='class', \n                        color=\"Booster Version Category\", \n                        title=f\"Correlation between Payload and Success for \"+site)\n        return fig\n\n# Run the app\nif __name__ == '__main__':\n    app.run_server()",
            "execution_count": null,
            "outputs": []
        },
        {
            "metadata": {},
            "cell_type": "code",
            "source": "",
            "execution_count": null,
            "outputs": []
        }
    ],
    "metadata": {
        "kernelspec": {
            "name": "python3",
            "display_name": "Python 3.8",
            "language": "python"
        },
        "language_info": {
            "name": "python",
            "version": "3.8.12",
            "mimetype": "text/x-python",
            "codemirror_mode": {
                "name": "ipython",
                "version": 3
            },
            "pygments_lexer": "ipython3",
            "nbconvert_exporter": "python",
            "file_extension": ".py"
        }
    },
    "nbformat": 4,
    "nbformat_minor": 1
}